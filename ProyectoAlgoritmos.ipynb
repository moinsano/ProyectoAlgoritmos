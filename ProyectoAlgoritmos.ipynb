{
 "cells": [
  {
   "cell_type": "code",
   "execution_count": null,
   "metadata": {},
   "outputs": [],
   "source": [
    "def organizar_objeto():\n",
    "    # print(\"Colores disponibles\")\n",
    "    colores = [\"Azul\",\"Rojo\",\"Verde\"]\n",
    "    print(colores)\n",
    "    color = int(input(\"¿De qué color es la tapa\"))\n",
    "\n",
    "    if color == \"Azul\":\n",
    "        mover_servomotor(\"canasta_azul\")\n",
    "        activar_segundo_servomotor()\n",
    "        return\n",
    "    if color == \"Rojo\":\n",
    "        mover_servomotor(\"canasta_roja\")\n",
    "        activar_segundo_servomotor()\n",
    "        return\n",
    "    if color == \"Verde\":\n",
    "        mover_servomotor(\"canasta_verde\")\n",
    "        activar_segundo_servomotor()\n",
    "        return\n",
    "    \n",
    "    print(\"No hay objeto o color no identificado\")\n",
    "\n",
    "def mover_servomotor(destino):\n",
    "    print(f\"Moviendo servomotor a {destino}\")\n",
    "\n",
    "def activar_segundo_servomotor():\n",
    "    print(\"Activando segundo servomotor, empujando objeto\")\n",
    "\n",
    "# Ejemplo de uso:\n",
    "organizar_objeto()"
   ]
  }
 ],
 "metadata": {
  "language_info": {
   "name": "python"
  }
 },
 "nbformat": 4,
 "nbformat_minor": 2
}
